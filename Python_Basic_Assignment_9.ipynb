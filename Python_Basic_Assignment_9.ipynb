{
  "nbformat": 4,
  "nbformat_minor": 0,
  "metadata": {
    "colab": {
      "name": "Python_Basic_Assignment_9.ipynb",
      "provenance": []
    },
    "kernelspec": {
      "name": "python3",
      "display_name": "Python 3"
    },
    "language_info": {
      "name": "python"
    }
  },
  "cells": [
    {
      "cell_type": "markdown",
      "source": [
        "Q1). To what does a relative path refer?\n",
        "\n",
        "Ans) Path of image or the file.\n"
      ],
      "metadata": {
        "id": "XdEez_Owz_av"
      }
    },
    {
      "cell_type": "markdown",
      "source": [
        "Q2). What does an absolute path start with your operating system?\n",
        "\n",
        "Ans) It starts with the name of the drive if the perticular thing is in the local system.\n",
        "Or if the thing is on the server then it will have the relative path.\n"
      ],
      "metadata": {
        "id": "Xz_9g4iGz_XV"
      }
    },
    {
      "cell_type": "markdown",
      "source": [
        "Q3). What do the functions os.getcwd() and os.chdir() do?\n",
        "\n",
        "Ans) os.chdir () is used to change the directory\n",
        "     os.getcwd() is used to get the current working directory\n",
        "      "
      ],
      "metadata": {
        "id": "FPFdyfL6z_U3"
      }
    },
    {
      "cell_type": "markdown",
      "source": [
        "Q4). What are the . and .. folders?\n",
        "\n",
        "Ans) . and .. both are used for refrence of the directory path or the file path "
      ],
      "metadata": {
        "id": "N-R3wXeVz_SJ"
      }
    },
    {
      "cell_type": "markdown",
      "source": [
        "Q5) 5. In C:\\bacon\\eggs\\spam.txt, which part is the dir name, and which part is the base name?\n",
        "\n",
        "ans) The name of the directory is eggs.The base name is C:/bacon .\n",
        "\n"
      ],
      "metadata": {
        "id": "mE42XMfMz_Pr"
      }
    },
    {
      "cell_type": "markdown",
      "source": [
        "Q6). What are the three “mode” arguments that can be passed to the open() function?\n",
        "\n",
        "Ans) the three mode argument that can be passed to open are : read(r), (a), (wr)"
      ],
      "metadata": {
        "id": "wbUTobj5z_M-"
      }
    },
    {
      "cell_type": "markdown",
      "source": [
        "Q7). What happens if an existing file is opened in write mode?\n",
        "\n",
        "Ans) If an existing file is opened in write mode then in that case we can able to write the thing in the file ."
      ],
      "metadata": {
        "id": "8kio9Q6bz_KK"
      }
    },
    {
      "cell_type": "markdown",
      "source": [
        "Q8). How do you tell the difference between read() and readlines()?\n",
        "\n",
        "Ans) The difference between read and readlines is that in read() we can just read the single line  and in readlines()  we can read multiple lines"
      ],
      "metadata": {
        "id": "fALA1sOZ5-UR"
      }
    },
    {
      "cell_type": "markdown",
      "source": [
        "Q9). What data structure does a shelf value resemble?\n",
        "\n",
        "Ans)  A shelf value resembles a dictionary value"
      ],
      "metadata": {
        "id": "o8mLPLRn5-Q9"
      }
    },
    {
      "cell_type": "markdown",
      "source": [
        ""
      ],
      "metadata": {
        "id": "5bT343ls591C"
      }
    },
    {
      "cell_type": "code",
      "execution_count": null,
      "metadata": {
        "id": "-V8sAOhmz2R5"
      },
      "outputs": [],
      "source": [
        ""
      ]
    }
  ]
}